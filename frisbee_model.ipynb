{
 "cells": [
  {
   "cell_type": "code",
   "id": "initial_id",
   "metadata": {
    "collapsed": true,
    "ExecuteTime": {
     "end_time": "2024-10-27T05:29:34.873939Z",
     "start_time": "2024-10-27T05:29:34.869302Z"
    }
   },
   "source": [
    "import os\n",
    "import torch\n",
    "import torchvision\n",
    "from torch.utils.data import DataLoader, Dataset\n",
    "from PIL import Image\n",
    "from torchvision.transforms import transforms\n",
    "from xml.etree import ElementTree as ET\n",
    "from torchvision.models.detection.faster_rcnn import FastRCNNPredictor\n",
    "import torch.optim as optim\n",
    "import matplotlib.pyplot as plt\n",
    "import cv2\n",
    "import numpy as np"
   ],
   "outputs": [],
   "execution_count": 9
  },
  {
   "metadata": {
    "ExecuteTime": {
     "end_time": "2024-10-27T00:56:34.561677Z",
     "start_time": "2024-10-27T00:56:34.552057Z"
    }
   },
   "cell_type": "code",
   "source": [
    "#defining the dataset class\n",
    "class FrisbeeDataset(Dataset):\n",
    "    def __init__(self, root, transforms=None):\n",
    "        self.root = root\n",
    "        self.transforms = transforms\n",
    "        self.image_dir = os.path.join(root, 'images')\n",
    "        self.annotation_dir = os.path.join(root, 'annotations')\n",
    "        self.image_files = sorted(os.listdir(self.image_dir))\n",
    "        \n",
    "    def __getitem__(self, index):\n",
    "        img_path = os.path.join(self.image_dir, self.image_files[index])\n",
    "        annotation_path = os.path.join(self.annotation_dir, self.image_files[index][:-4] + '.xml')\n",
    "        \n",
    "        #check if the annotation file exists\n",
    "        if not os.path.exists(annotation_path):\n",
    "            raise FileNotFoundError(f'Annotation file {annotation_path} not found for image {img_path}')\n",
    "        \n",
    "        img = Image.open(img_path).convert('RGB')\n",
    "        \n",
    "        boxes = []\n",
    "        labels = []\n",
    "        tree = ET.parse(annotation_path)\n",
    "        root = tree.getroot()\n",
    "        \n",
    "        for obj in root.iter('object'):\n",
    "            xmin = float(obj.find('bndbox/xmin').text)\n",
    "            ymin = float(obj.find('bndbox/ymin').text)\n",
    "            xmax = float(obj.find('bndbox/xmax').text)\n",
    "            ymax = float(obj.find('bndbox/ymax').text)\n",
    "            boxes.append([xmin, ymin, xmax, ymax])\n",
    "            label_name = obj.find('name').text\n",
    "            if label_name == 'Flying-disc':\n",
    "                labels.append(1)\n",
    "            \n",
    "            if len(boxes) == 0:\n",
    "                raise ValueError(f'No objects found in {annotation_path}')\n",
    "            \n",
    "            boxes = torch.as_tensor(boxes, dtype=torch.float32)\n",
    "            labels = torch.as_tensor(labels, dtype=torch.int64)\n",
    "            image_id = torch.tensor([index])\n",
    "            area = (boxes[:,2] - boxes[:,0]) * (boxes[:,3] - boxes[:,1])\n",
    "            iscrowd = torch.zeros((len(boxes),), dtype=torch.int64)\n",
    "            \n",
    "            target = {'boxes': boxes, 'labels': labels, 'image_id': image_id, 'area': area, 'iscrowd': iscrowd}\n",
    "            \n",
    "            if self.transforms is not None: \n",
    "                img = self.transforms(img)\n",
    "                \n",
    "            return img, target\n",
    "        \n",
    "    def __len__(self):\n",
    "        return len(self.image_files)"
   ],
   "id": "6ead2ac446cafede",
   "outputs": [],
   "execution_count": 2
  },
  {
   "metadata": {
    "ExecuteTime": {
     "end_time": "2024-10-27T00:56:34.579035Z",
     "start_time": "2024-10-27T00:56:34.574093Z"
    }
   },
   "cell_type": "code",
   "source": [
    "#define model returning function\n",
    "\n",
    "def get_faster_rcnn_model(num_classes):\n",
    "    model = torchvision.models.detection.fasterrcnn_resnet50_fpn(pretrained=True)\n",
    "    in_features = model.roi_heads.box_predictor.cls_score.in_features\n",
    "    model.roi_heads.box_predictor = FastRCNNPredictor(in_features, num_classes)\n",
    "    return model"
   ],
   "id": "a3c6dd40bd978a3f",
   "outputs": [],
   "execution_count": 3
  },
  {
   "metadata": {
    "ExecuteTime": {
     "end_time": "2024-10-27T00:56:34.594297Z",
     "start_time": "2024-10-27T00:56:34.588619Z"
    }
   },
   "cell_type": "code",
   "source": [
    "data_transform = transforms.Compose([\n",
    "    transforms.ToTensor(), \n",
    "    transforms.RandomHorizontalFlip(0.5)\n",
    "])\n",
    "\n",
    "def custom_collate_fn(batch):\n",
    "    return tuple(zip(*batch))\n",
    "\n",
    "dataset = FrisbeeDataset('Frisbee_Data', transforms=data_transform)\n",
    "data_loader = DataLoader(dataset, batch_size=2, shuffle=True, num_workers=0, collate_fn=custom_collate_fn)"
   ],
   "id": "98229ca09169ba69",
   "outputs": [],
   "execution_count": 4
  },
  {
   "metadata": {
    "ExecuteTime": {
     "end_time": "2024-10-27T00:56:37.278672Z",
     "start_time": "2024-10-27T00:56:35.154899Z"
    }
   },
   "cell_type": "code",
   "source": [
    "device = torch.device('cuda') if torch.cuda.is_available() else torch.device('cpu')\n",
    "model = get_faster_rcnn_model(num_classes=2).to(device)\n",
    "\n",
    "optimizer = optim.SGD(model.parameters(), lr=0.001, momentum=0.9, weight_decay=0.0005)\n",
    "lr_scheduler = optim.lr_scheduler.StepLR(optimizer, step_size=3, gamma=0.1)"
   ],
   "id": "637fe8960cdc18c1",
   "outputs": [
    {
     "name": "stderr",
     "output_type": "stream",
     "text": [
      "F:\\Deep_Learning\\.venv\\Lib\\site-packages\\torchvision\\models\\_utils.py:208: UserWarning: The parameter 'pretrained' is deprecated since 0.13 and may be removed in the future, please use 'weights' instead.\n",
      "  warnings.warn(\n",
      "F:\\Deep_Learning\\.venv\\Lib\\site-packages\\torchvision\\models\\_utils.py:223: UserWarning: Arguments other than a weight enum or `None` for 'weights' are deprecated since 0.13 and may be removed in the future. The current behavior is equivalent to passing `weights=FasterRCNN_ResNet50_FPN_Weights.COCO_V1`. You can also use `weights=FasterRCNN_ResNet50_FPN_Weights.DEFAULT` to get the most up-to-date weights.\n",
      "  warnings.warn(msg)\n"
     ]
    }
   ],
   "execution_count": 5
  },
  {
   "metadata": {
    "ExecuteTime": {
     "end_time": "2024-10-27T02:07:03.428721Z",
     "start_time": "2024-10-27T00:56:37.286955Z"
    }
   },
   "cell_type": "code",
   "source": [
    "num_epochs = 20\n",
    "for epoch in range(num_epochs):\n",
    "    model.train()\n",
    "    epoch_loss = 0\n",
    "    for images, targets in data_loader:\n",
    "        images = list(image.to(device) for image in images)\n",
    "        targets = [{k: v.to(device) for k, v in t.items()} for t in targets]\n",
    "        \n",
    "        loss_dict = model(images, targets)\n",
    "        \n",
    "        losses = sum(loss for loss in loss_dict.values())\n",
    "        optimizer.zero_grad()\n",
    "        losses.backward()\n",
    "        optimizer.step()\n",
    "        \n",
    "        epoch_loss += losses.item()\n",
    "    \n",
    "    lr_scheduler.step()\n",
    "    \n",
    "    print(f\"{epoch + 1}/{num_epochs} | Loss: {epoch_loss / len(data_loader):.4f}\")"
   ],
   "id": "8e9244adc7a1a9b1",
   "outputs": [
    {
     "name": "stdout",
     "output_type": "stream",
     "text": [
      "1/20 | Loss: 0.1579\n",
      "2/20 | Loss: 0.1121\n",
      "3/20 | Loss: 0.1056\n",
      "4/20 | Loss: 0.1030\n",
      "5/20 | Loss: 0.1063\n",
      "6/20 | Loss: 0.1070\n",
      "7/20 | Loss: 0.1009\n",
      "8/20 | Loss: 0.0917\n",
      "9/20 | Loss: 0.1029\n",
      "10/20 | Loss: 0.1021\n",
      "11/20 | Loss: 0.1003\n",
      "12/20 | Loss: 0.0981\n",
      "13/20 | Loss: 0.1032\n",
      "14/20 | Loss: 0.0976\n",
      "15/20 | Loss: 0.1034\n",
      "16/20 | Loss: 0.1042\n",
      "17/20 | Loss: 0.1004\n",
      "18/20 | Loss: 0.1051\n",
      "19/20 | Loss: 0.0976\n",
      "20/20 | Loss: 0.1018\n"
     ]
    }
   ],
   "execution_count": 6
  },
  {
   "metadata": {
    "ExecuteTime": {
     "end_time": "2024-10-27T02:49:29.870258Z",
     "start_time": "2024-10-27T02:49:28.967333Z"
    }
   },
   "cell_type": "code",
   "source": [
    "save_path = 'frisbee_model.pth'\n",
    "torch.save(model.state_dict(), save_path)\n",
    "print(f'Model saved at {save_path}')"
   ],
   "id": "ec5f588dec365957",
   "outputs": [
    {
     "name": "stdout",
     "output_type": "stream",
     "text": [
      "Model saved at frisbee_model.pth\n"
     ]
    }
   ],
   "execution_count": 7
  },
  {
   "metadata": {
    "ExecuteTime": {
     "end_time": "2024-10-27T05:46:03.067897Z",
     "start_time": "2024-10-27T05:46:02.546465Z"
    }
   },
   "cell_type": "code",
   "source": [
    "#inference\n",
    "model.eval()\n",
    "\n",
    "def draw_boxes(image, boxes):\n",
    "    for box in boxes:\n",
    "        x1, y1, x2, y2 = map(int, box)\n",
    "        cv2.rectangle(image, (x1, y1), (x2, y2), (0, 255, 0), 3)\n",
    "    return image\n",
    "\n",
    "def detect_objects(image):\n",
    "    print('Detecting objects in image...')\n",
    "    image = Image.open(image).convert('RGB')\n",
    "    transform = transforms.Compose([transforms.ToTensor()])\n",
    "    image_tensor = transform(image).unsqueeze(0).to(device)\n",
    "    \n",
    "    with torch.no_grad():\n",
    "        prediction = model(image_tensor)\n",
    "        \n",
    "    #extract the bounding boxes\n",
    "    boxes = prediction[0]['boxes'].cpu().numpy()\n",
    "    scores = prediction[0]['scores'].cpu().numpy()\n",
    "    selected_boxes = boxes[scores > 0.5]\n",
    "    \n",
    "    image_np = cv2.cvtColor(np.array(image), cv2.COLOR_RGB2BGR)\n",
    "    result_image = draw_boxes(image_np, selected_boxes)\n",
    "\n",
    "    cv2.imwrite('result.jpg', result_image)\n",
    "    print('Object detection complete. Output saved as result.jpg')\n",
    "    \n",
    "test_path = \"test.jpg\"    \n",
    "detect_objects(test_path)"
   ],
   "id": "2516e41db6f6cf7d",
   "outputs": [
    {
     "name": "stdout",
     "output_type": "stream",
     "text": [
      "Detecting objects in image...\n",
      "Object detection complete. Output saved as result.jpg\n"
     ]
    }
   ],
   "execution_count": 20
  },
  {
   "metadata": {
    "ExecuteTime": {
     "end_time": "2024-10-27T06:01:20.785503Z",
     "start_time": "2024-10-27T06:00:09.798346Z"
    }
   },
   "cell_type": "code",
   "source": [
    "#video detection\n",
    "def detect_objects_video(video_path):\n",
    "    print('Detecting objects in video...')\n",
    "    cap = cv2.VideoCapture(video_path)\n",
    "    frame_width = int(cap.get(cv2.CAP_PROP_FRAME_WIDTH))\n",
    "    frame_height = int(cap.get(cv2.CAP_PROP_FRAME_HEIGHT))\n",
    "    fps = int(cap.get(cv2.CAP_PROP_FPS))\n",
    "    \n",
    "    #define codec and create video writer object\n",
    "    fourcc = cv2.VideoWriter_fourcc(*'XVID')\n",
    "    out = cv2.VideoWriter('output3.avi', fourcc, fps, (frame_width, frame_height))\n",
    "    \n",
    "    while cap.isOpened():\n",
    "        ret, frame = cap.read()\n",
    "        if not ret:\n",
    "            break\n",
    "        \n",
    "        image_tensor = transforms.ToTensor()(frame).unsqueeze(0).to(device)\n",
    "        \n",
    "        with torch.no_grad():\n",
    "            prediction = model(image_tensor)\n",
    "            \n",
    "        boxes = prediction[0]['boxes'].cpu().numpy()\n",
    "        scores = prediction[0]['scores'].cpu().numpy()\n",
    "        selected_boxes = boxes[scores > 0.5]\n",
    "        \n",
    "        result_frame = draw_boxes(frame, selected_boxes)\n",
    "        out.write(result_frame)\n",
    "        \n",
    "    cap.release()\n",
    "    out.release()\n",
    "    cv2.destroyAllWindows()\n",
    "    print('Object detection complete. Output saved as output.avi')\n",
    "    \n",
    "    \n",
    "video_path = 'test3.mp4'\n",
    "detect_objects_video(video_path)"
   ],
   "id": "812992ebb364b02",
   "outputs": [
    {
     "name": "stdout",
     "output_type": "stream",
     "text": [
      "Detecting objects in video...\n",
      "Object detection complete. Output saved as output.avi\n"
     ]
    }
   ],
   "execution_count": 24
  }
 ],
 "metadata": {
  "kernelspec": {
   "display_name": "Python 3",
   "language": "python",
   "name": "python3"
  },
  "language_info": {
   "codemirror_mode": {
    "name": "ipython",
    "version": 2
   },
   "file_extension": ".py",
   "mimetype": "text/x-python",
   "name": "python",
   "nbconvert_exporter": "python",
   "pygments_lexer": "ipython2",
   "version": "2.7.6"
  }
 },
 "nbformat": 4,
 "nbformat_minor": 5
}
